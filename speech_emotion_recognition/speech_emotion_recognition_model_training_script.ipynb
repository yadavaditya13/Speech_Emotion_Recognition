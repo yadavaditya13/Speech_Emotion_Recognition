{
 "cells": [
  {
   "cell_type": "code",
   "execution_count": 25,
   "metadata": {},
   "outputs": [],
   "source": [
    "# importing required packages\n",
    "\n",
    "from sklearn.model_selection import train_test_split\n",
    "from sklearn.neural_network import MLPClassifier\n",
    "from sklearn.metrics import accuracy_score\n",
    "\n",
    "import numpy as np\n",
    "import soundfile\n",
    "import librosa\n",
    "import pickle\n",
    "import glob\n",
    "import os"
   ]
  },
  {
   "cell_type": "code",
   "execution_count": 10,
   "metadata": {},
   "outputs": [],
   "source": [
    "# defining a function to extract mfcc, chroma and mel features from sound file\n",
    "\n",
    "def extract_feature(file_name, mfcc, chroma, mel):\n",
    "    # reading the soundfile\n",
    "    \n",
    "    with soundfile.SoundFile(file_name) as sound_file:\n",
    "        sound = sound_file.read(dtype=\"float32\")\n",
    "        sample_rate = sound_file.samplerate\n",
    "        \n",
    "        if chroma:\n",
    "            # grabbing Short-Time Fourier Transform of sound\n",
    "            stft = np.abs(librosa.stft(sound))\n",
    "        result = np.array([])\n",
    "        \n",
    "        #mfcc: Mel Frequency Cepstral Coefficient, represents the short-term power spectrum of a sound\n",
    "        if mfcc:\n",
    "            mfccs = np.mean(librosa.feature.mfcc(y=sound, sr=sample_rate, n_mfcc=40).T, axis=0)\n",
    "            result = np.hstack((result, mfccs))\n",
    "        \n",
    "        # chroma: Pertains to the 12 different pitch classes\n",
    "        if chroma:\n",
    "            chroma = np.mean(librosa.feature.chroma_stft(S=stft, sr=sample_rate).T, axis=0)\n",
    "            result = np.hstack((result, chroma))\n",
    "        \n",
    "        # mel: Mel Spectrogram Frequency\n",
    "        if mel:\n",
    "            mel = np.mean(librosa.feature.melspectrogram(sound, sr=sample_rate).T, axis=0)\n",
    "            result = np.hstack((result, mel))\n",
    "    \n",
    "    #hstack(): stacks arrays in sequence horizontally - column fashion\n",
    "    return result"
   ]
  },
  {
   "cell_type": "code",
   "execution_count": 11,
   "metadata": {},
   "outputs": [],
   "source": [
    "# let's define a dictionary to hold numbers and emotions available in RAVDESS dataset\n",
    "# and also a list to hold the emotions we want\n",
    "\n",
    "emotions = {\n",
    "\n",
    "    \"01\": \"neutral\",\n",
    "    \"02\": \"calm\",\n",
    "    \"03\": \"happy\",\n",
    "    \"04\": \"sad\",\n",
    "    \"05\": \"angry\",\n",
    "    \"06\": \"fearful\",\n",
    "    \"07\": \"disgust\",\n",
    "    \"08\": \"surprised\"\n",
    "\n",
    "}\n",
    "\n",
    "# emotions we will observe\n",
    "observed_emotions = [\"calm\", \"happy\", \"fearful\", \"disgust\", \"sad\"]"
   ]
  },
  {
   "cell_type": "code",
   "execution_count": 12,
   "metadata": {},
   "outputs": [],
   "source": [
    "# let's load the dataset and extract features from each sound file\n",
    "\n",
    "def load_data(test_size=0.2):\n",
    "    \n",
    "    features = []\n",
    "    emotions_ = []\n",
    "    \n",
    "    # we will grab all the audio files using below command and pattern with glob\n",
    "    for file in glob.glob(\"D:\\\\adity\\\\Projects\\\\speech_emotion_recognition\\\\ravdess-data\\\\Actor_*\\\\*.wav\"):\n",
    "        \n",
    "        file_name = os.path.basename(file)\n",
    "        # since the 3rd value in audio file name signifies emotion in the file\n",
    "        emotion = emotions[file_name.split(\"-\")[2]]\n",
    "        \n",
    "        if emotion not in observed_emotions:\n",
    "             continue\n",
    "        \n",
    "        feature = extract_feature(file, mfcc=True, chroma=True, mel=True)\n",
    "        features.append(feature)\n",
    "        emotions_.append(emotion)\n",
    "        \n",
    "    return train_test_split(np.array(features), emotions_, test_size=test_size, random_state=9)"
   ]
  },
  {
   "cell_type": "code",
   "execution_count": 45,
   "metadata": {},
   "outputs": [
    {
     "name": "stdout",
     "output_type": "stream",
     "text": [
      "(614, 154)\n"
     ]
    }
   ],
   "source": [
    "# splitting the dataset\n",
    "x_train, x_test, y_train, y_test = load_data(test_size=0.2)\n",
    "\n",
    "print((x_train.shape[0], x_test.shape[0]))"
   ]
  },
  {
   "cell_type": "code",
   "execution_count": 46,
   "metadata": {},
   "outputs": [
    {
     "name": "stdout",
     "output_type": "stream",
     "text": [
      "[INFO] Features extracted: 180\n"
     ]
    }
   ],
   "source": [
    "# Number of features extracted\n",
    "print(\"[INFO] Features extracted: {}\".format(x_train.shape[1]))"
   ]
  },
  {
   "cell_type": "code",
   "execution_count": 47,
   "metadata": {},
   "outputs": [
    {
     "name": "stdout",
     "output_type": "stream",
     "text": [
      "[INFO] Initializing MLPClassifier model...\n"
     ]
    }
   ],
   "source": [
    "# let's initialize our model MLPClassifier aka Multi-layer Perceptron Classifier\n",
    "# This is a feedforward ANN model\n",
    "\n",
    "print(\"[INFO] Initializing MLPClassifier model...\")\n",
    "model = MLPClassifier(alpha=0.1, batch_size=256, epsilon=1e-08, hidden_layer_sizes=(300,), learning_rate=\"adaptive\", max_iter=500)"
   ]
  },
  {
   "cell_type": "code",
   "execution_count": 48,
   "metadata": {},
   "outputs": [
    {
     "data": {
      "text/plain": [
       "MLPClassifier(activation='relu', alpha=0.1, batch_size=256, beta_1=0.9,\n",
       "              beta_2=0.999, early_stopping=False, epsilon=1e-08,\n",
       "              hidden_layer_sizes=(300,), learning_rate='adaptive',\n",
       "              learning_rate_init=0.001, max_fun=15000, max_iter=500,\n",
       "              momentum=0.9, n_iter_no_change=10, nesterovs_momentum=True,\n",
       "              power_t=0.5, random_state=None, shuffle=True, solver='adam',\n",
       "              tol=0.0001, validation_fraction=0.1, verbose=False,\n",
       "              warm_start=False)"
      ]
     },
     "execution_count": 48,
     "metadata": {},
     "output_type": "execute_result"
    }
   ],
   "source": [
    "# let's begin training\n",
    "\n",
    "#print(\"[INFO] The training begins...\")\n",
    "model.fit(x_train, y_train)\n",
    "#print(\"[INFO] The training terminated...\")"
   ]
  },
  {
   "cell_type": "code",
   "execution_count": 49,
   "metadata": {},
   "outputs": [
    {
     "name": "stdout",
     "output_type": "stream",
     "text": [
      "[INFO] Predictions begin...\n"
     ]
    }
   ],
   "source": [
    "# let's predict for test set\n",
    "\n",
    "print(\"[INFO] Predictions begin...\")\n",
    "y_preds = model.predict(x_test)"
   ]
  },
  {
   "cell_type": "code",
   "execution_count": 50,
   "metadata": {},
   "outputs": [
    {
     "name": "stdout",
     "output_type": "stream",
     "text": [
      "[INFO] Accuracy: 74.68%\n"
     ]
    }
   ],
   "source": [
    "# calculating model accuracy\n",
    "\n",
    "accuracy = accuracy_score(y_true=y_test, y_pred=y_preds)\n",
    "print(\"[INFO] Accuracy: {:.2f}%\".format(accuracy * 100))"
   ]
  },
  {
   "cell_type": "code",
   "execution_count": 51,
   "metadata": {},
   "outputs": [
    {
     "name": "stdout",
     "output_type": "stream",
     "text": [
      "[INFO] Saving model to disk...\n"
     ]
    },
    {
     "data": {
      "text/plain": [
       "['spe_motion_model.sav']"
      ]
     },
     "execution_count": 51,
     "metadata": {},
     "output_type": "execute_result"
    }
   ],
   "source": [
    "# let's save our model using joblib\n",
    "import joblib\n",
    "\n",
    "print(\"[INFO] Saving model to disk...\")\n",
    "joblib.dump(model, \"spe_motion_model.sav\")"
   ]
  },
  {
   "cell_type": "code",
   "execution_count": null,
   "metadata": {},
   "outputs": [],
   "source": [
    "#NOTE :: Don't re run the entire script if you simply want to test the model. Run cells below from here. Or else the saved model will be over-written by the new one... If you want to do that then you may.."
   ]
  },
  {
   "cell_type": "code",
   "execution_count": null,
   "metadata": {},
   "outputs": [],
   "source": [
    "# NOTE: for loading this trained model use joblib.load(model_name)"
   ]
  },
  {
   "cell_type": "code",
   "execution_count": 13,
   "metadata": {},
   "outputs": [
    {
     "name": "stdout",
     "output_type": "stream",
     "text": [
      "[INFO] Loading model for predictions...\n"
     ]
    }
   ],
   "source": [
    "# let's it on an unknown sample\n",
    "import joblib\n",
    "\n",
    "print(\"[INFO] Loading model for predictions...\")\n",
    "load_model = joblib.load(\"spe_motion_model.sav\")"
   ]
  },
  {
   "cell_type": "code",
   "execution_count": 14,
   "metadata": {},
   "outputs": [
    {
     "name": "stdout",
     "output_type": "stream",
     "text": [
      "[INFO] Loading the sample audio...\n"
     ]
    }
   ],
   "source": [
    "# Loading the sample audio .. you can use argparse to get input's location from user ... Use your own sample audio by placing in project directory and have fun...\n",
    "\n",
    "print(\"[INFO] Loading the sample audio...\")\n",
    "audio = \"audio.wav\"\n",
    "feature = extract_feature(audio, mfcc=True, chroma=True, mel=True)"
   ]
  },
  {
   "cell_type": "code",
   "execution_count": 18,
   "metadata": {},
   "outputs": [
    {
     "name": "stdout",
     "output_type": "stream",
     "text": [
      "[INFO] Evaluating predictions...\n"
     ]
    }
   ],
   "source": [
    "print(\"[INFO] Evaluating predictions...\")\n",
    "pred = load_model.predict(feature.reshape(1, -1))"
   ]
  },
  {
   "cell_type": "code",
   "execution_count": 24,
   "metadata": {},
   "outputs": [
    {
     "name": "stdout",
     "output_type": "stream",
     "text": [
      "[INFO] Emotion for given Audio: fearful\n"
     ]
    }
   ],
   "source": [
    "# let's display the result\n",
    "\n",
    "print(\"[INFO] Emotion for given Audio: {}\".format(pred[0]))"
   ]
  }
 ],
 "metadata": {
  "kernelspec": {
   "display_name": "Python 3",
   "language": "python",
   "name": "python3"
  },
  "language_info": {
   "codemirror_mode": {
    "name": "ipython",
    "version": 3
   },
   "file_extension": ".py",
   "mimetype": "text/x-python",
   "name": "python",
   "nbconvert_exporter": "python",
   "pygments_lexer": "ipython3",
   "version": "3.7.4"
  }
 },
 "nbformat": 4,
 "nbformat_minor": 4
}
